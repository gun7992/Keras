{
 "cells": [
  {
   "cell_type": "code",
   "execution_count": 1,
   "metadata": {},
   "outputs": [
    {
     "name": "stderr",
     "output_type": "stream",
     "text": [
      "Using TensorFlow backend.\n"
     ]
    },
    {
     "data": {
      "text/plain": [
       "'2.2.4'"
      ]
     },
     "execution_count": 1,
     "metadata": {},
     "output_type": "execute_result"
    }
   ],
   "source": [
    "import keras\n",
    "keras.__version__"
   ]
  },
  {
   "cell_type": "code",
   "execution_count": 2,
   "metadata": {},
   "outputs": [],
   "source": [
    "from keras.datasets import reuters\n",
    "\n",
    "(train_data, train_labels), (test_data, test_labels) = reuters.load_data(num_words=10000)"
   ]
  },
  {
   "cell_type": "code",
   "execution_count": 3,
   "metadata": {},
   "outputs": [
    {
     "data": {
      "text/plain": [
       "8982"
      ]
     },
     "execution_count": 3,
     "metadata": {},
     "output_type": "execute_result"
    }
   ],
   "source": [
    "len(train_data)"
   ]
  },
  {
   "cell_type": "code",
   "execution_count": 4,
   "metadata": {},
   "outputs": [
    {
     "data": {
      "text/plain": [
       "2246"
      ]
     },
     "execution_count": 4,
     "metadata": {},
     "output_type": "execute_result"
    }
   ],
   "source": [
    "len(test_data)"
   ]
  },
  {
   "cell_type": "code",
   "execution_count": 5,
   "metadata": {},
   "outputs": [
    {
     "data": {
      "text/plain": [
       "[1,\n",
       " 245,\n",
       " 273,\n",
       " 207,\n",
       " 156,\n",
       " 53,\n",
       " 74,\n",
       " 160,\n",
       " 26,\n",
       " 14,\n",
       " 46,\n",
       " 296,\n",
       " 26,\n",
       " 39,\n",
       " 74,\n",
       " 2979,\n",
       " 3554,\n",
       " 14,\n",
       " 46,\n",
       " 4689,\n",
       " 4329,\n",
       " 86,\n",
       " 61,\n",
       " 3499,\n",
       " 4795,\n",
       " 14,\n",
       " 61,\n",
       " 451,\n",
       " 4329,\n",
       " 17,\n",
       " 12]"
      ]
     },
     "execution_count": 5,
     "metadata": {},
     "output_type": "execute_result"
    }
   ],
   "source": [
    "train_data[10]"
   ]
  },
  {
   "cell_type": "code",
   "execution_count": 7,
   "metadata": {},
   "outputs": [],
   "source": [
    "word_index = reuters.get_word_index()\n",
    "reverse_word_index = dict([(value, key) for (key, value) in word_index.items()])\n",
    "\n",
    "decoded_newswire = ' '.join([reverse_word_index.get(i - 3, '?') for i in train_data[0]])"
   ]
  },
  {
   "cell_type": "code",
   "execution_count": 8,
   "metadata": {},
   "outputs": [
    {
     "data": {
      "text/plain": [
       "'? ? ? said as a result of its december acquisition of space co it expects earnings per share in 1987 of 1 15 to 1 30 dlrs per share up from 70 cts in 1986 the company said pretax net should rise to nine to 10 mln dlrs from six mln dlrs in 1986 and rental operation revenues to 19 to 22 mln dlrs from 12 5 mln dlrs it said cash flow per share this year should be 2 50 to three dlrs reuter 3'"
      ]
     },
     "execution_count": 8,
     "metadata": {},
     "output_type": "execute_result"
    }
   ],
   "source": [
    "decoded_newswire"
   ]
  },
  {
   "cell_type": "code",
   "execution_count": 9,
   "metadata": {},
   "outputs": [
    {
     "data": {
      "text/plain": [
       "3"
      ]
     },
     "execution_count": 9,
     "metadata": {},
     "output_type": "execute_result"
    }
   ],
   "source": [
    "train_labels[10]"
   ]
  },
  {
   "cell_type": "code",
   "execution_count": 13,
   "metadata": {},
   "outputs": [],
   "source": [
    "import numpy as np\n",
    "\n",
    "def vectorize_sequences(sequences, dimension=10000):\n",
    "    results = np.zeros((len(sequences), dimension))\n",
    "    for i, sequence in enumerate(sequences):\n",
    "        results[i, sequence] = 1.\n",
    "    return results\n",
    "\n",
    "x_train = vectorize_sequences(train_data)\n",
    "\n",
    "x_test = vectorize_sequences(test_data)"
   ]
  },
  {
   "cell_type": "code",
   "execution_count": 14,
   "metadata": {},
   "outputs": [],
   "source": [
    "def to_one_hot(labels, dimension=46):\n",
    "    results = np.zeros((len(labels), dimension))\n",
    "    for i, label in enumerate(labels):\n",
    "        results[i, label] = 1.\n",
    "    return results\n",
    "\n",
    "# 훈련 레이블 벡터 변환\n",
    "one_hot_train_labels = to_one_hot(train_labels)\n",
    "# 테스트 레이블 벡터 변환\n",
    "one_hot_test_labels = to_one_hot(test_labels)"
   ]
  },
  {
   "cell_type": "code",
   "execution_count": 15,
   "metadata": {},
   "outputs": [],
   "source": [
    "from keras.utils.np_utils import to_categorical\n",
    "\n",
    "one_hot_train_labels = to_categorical(train_labels)\n",
    "one_hot_test_labels = to_categorical(test_labels)"
   ]
  },
  {
   "cell_type": "code",
   "execution_count": 16,
   "metadata": {},
   "outputs": [
    {
     "name": "stderr",
     "output_type": "stream",
     "text": [
      "WARNING: Logging before flag parsing goes to stderr.\n",
      "W0728 23:59:00.223280 13244 deprecation_wrapper.py:119] From C:\\Users\\gun79\\Anaconda3\\envs\\venv\\lib\\site-packages\\keras-2.2.4-py3.6.egg\\keras\\backend\\tensorflow_backend.py:74: The name tf.get_default_graph is deprecated. Please use tf.compat.v1.get_default_graph instead.\n",
      "\n",
      "W0728 23:59:00.272149 13244 deprecation_wrapper.py:119] From C:\\Users\\gun79\\Anaconda3\\envs\\venv\\lib\\site-packages\\keras-2.2.4-py3.6.egg\\keras\\backend\\tensorflow_backend.py:529: The name tf.placeholder is deprecated. Please use tf.compat.v1.placeholder instead.\n",
      "\n",
      "W0728 23:59:00.287644 13244 deprecation_wrapper.py:119] From C:\\Users\\gun79\\Anaconda3\\envs\\venv\\lib\\site-packages\\keras-2.2.4-py3.6.egg\\keras\\backend\\tensorflow_backend.py:4420: The name tf.random_uniform is deprecated. Please use tf.random.uniform instead.\n",
      "\n"
     ]
    }
   ],
   "source": [
    "from keras import models\n",
    "from keras import layers\n",
    "\n",
    "model = models.Sequential()\n",
    "model.add(layers.Dense(64, activation='relu', input_shape=(10000,)))\n",
    "model.add(layers.Dense(64, activation='relu'))\n",
    "model.add(layers.Dense(46, activation='softmax'))"
   ]
  },
  {
   "cell_type": "code",
   "execution_count": 17,
   "metadata": {},
   "outputs": [
    {
     "name": "stderr",
     "output_type": "stream",
     "text": [
      "W0728 23:59:05.549765 13244 deprecation_wrapper.py:119] From C:\\Users\\gun79\\Anaconda3\\envs\\venv\\lib\\site-packages\\keras-2.2.4-py3.6.egg\\keras\\optimizers.py:793: The name tf.train.Optimizer is deprecated. Please use tf.compat.v1.train.Optimizer instead.\n",
      "\n",
      "W0728 23:59:05.574697 13244 deprecation_wrapper.py:119] From C:\\Users\\gun79\\Anaconda3\\envs\\venv\\lib\\site-packages\\keras-2.2.4-py3.6.egg\\keras\\backend\\tensorflow_backend.py:3564: The name tf.log is deprecated. Please use tf.math.log instead.\n",
      "\n"
     ]
    }
   ],
   "source": [
    "model.compile(optimizer='rmsprop',\n",
    "              loss='categorical_crossentropy',\n",
    "              metrics=['accuracy'])"
   ]
  },
  {
   "cell_type": "code",
   "execution_count": 18,
   "metadata": {},
   "outputs": [],
   "source": [
    "x_val = x_train[:1000]\n",
    "partial_x_train = x_train[1000:]\n",
    "\n",
    "y_val = one_hot_train_labels[:1000]\n",
    "partial_y_train = one_hot_train_labels[1000:]"
   ]
  },
  {
   "cell_type": "code",
   "execution_count": 20,
   "metadata": {},
   "outputs": [
    {
     "name": "stdout",
     "output_type": "stream",
     "text": [
      "Train on 7982 samples, validate on 1000 samples\n",
      "Epoch 1/20\n",
      "7982/7982 [==============================] - 1s 124us/step - loss: 0.1097 - acc: 0.9588 - val_loss: 1.0476 - val_acc: 0.8060\n",
      "Epoch 2/20\n",
      "7982/7982 [==============================] - 1s 125us/step - loss: 0.1122 - acc: 0.9598 - val_loss: 1.0599 - val_acc: 0.7990\n",
      "Epoch 3/20\n",
      "7982/7982 [==============================] - 1s 121us/step - loss: 0.0989 - acc: 0.9590 - val_loss: 1.0785 - val_acc: 0.8000\n",
      "Epoch 4/20\n",
      "7982/7982 [==============================] - 1s 119us/step - loss: 0.1065 - acc: 0.9577 - val_loss: 1.1280 - val_acc: 0.7890\n",
      "Epoch 5/20\n",
      "7982/7982 [==============================] - 1s 119us/step - loss: 0.0993 - acc: 0.9574 - val_loss: 1.0867 - val_acc: 0.8020\n",
      "Epoch 6/20\n",
      "7982/7982 [==============================] - 1s 119us/step - loss: 0.1010 - acc: 0.9597 - val_loss: 1.1163 - val_acc: 0.7960\n",
      "Epoch 7/20\n",
      "7982/7982 [==============================] - 1s 119us/step - loss: 0.1005 - acc: 0.9574 - val_loss: 1.1228 - val_acc: 0.7990\n",
      "Epoch 8/20\n",
      "7982/7982 [==============================] - 1s 124us/step - loss: 0.1018 - acc: 0.9560 - val_loss: 1.1170 - val_acc: 0.7930\n",
      "Epoch 9/20\n",
      "7982/7982 [==============================] - 1s 121us/step - loss: 0.0991 - acc: 0.9577 - val_loss: 1.1645 - val_acc: 0.7960\n",
      "Epoch 10/20\n",
      "7982/7982 [==============================] - 1s 122us/step - loss: 0.0945 - acc: 0.9595 - val_loss: 1.1524 - val_acc: 0.7920\n",
      "Epoch 11/20\n",
      "7982/7982 [==============================] - 1s 125us/step - loss: 0.0982 - acc: 0.9567 - val_loss: 1.1505 - val_acc: 0.7990\n",
      "Epoch 12/20\n",
      "7982/7982 [==============================] - ETA: 0s - loss: 0.0936 - acc: 0.959 - 1s 123us/step - loss: 0.0936 - acc: 0.9590 - val_loss: 1.1899 - val_acc: 0.7890\n",
      "Epoch 13/20\n",
      "7982/7982 [==============================] - 1s 122us/step - loss: 0.0949 - acc: 0.9579 - val_loss: 1.2298 - val_acc: 0.7880\n",
      "Epoch 14/20\n",
      "7982/7982 [==============================] - 1s 123us/step - loss: 0.0917 - acc: 0.9599 - val_loss: 1.2055 - val_acc: 0.7900\n",
      "Epoch 15/20\n",
      "7982/7982 [==============================] - 1s 124us/step - loss: 0.0923 - acc: 0.9597 - val_loss: 1.2079 - val_acc: 0.7910\n",
      "Epoch 16/20\n",
      "7982/7982 [==============================] - 1s 130us/step - loss: 0.0919 - acc: 0.9588 - val_loss: 1.2298 - val_acc: 0.7870\n",
      "Epoch 17/20\n",
      "7982/7982 [==============================] - 1s 118us/step - loss: 0.0924 - acc: 0.9572 - val_loss: 1.2607 - val_acc: 0.7830\n",
      "Epoch 18/20\n",
      "7982/7982 [==============================] - 1s 123us/step - loss: 0.0908 - acc: 0.9602 - val_loss: 1.1986 - val_acc: 0.7920\n",
      "Epoch 19/20\n",
      "7982/7982 [==============================] - 1s 127us/step - loss: 0.0896 - acc: 0.9598 - val_loss: 1.2095 - val_acc: 0.7850\n",
      "Epoch 20/20\n",
      "7982/7982 [==============================] - 1s 121us/step - loss: 0.0884 - acc: 0.9608 - val_loss: 1.3044 - val_acc: 0.7730\n"
     ]
    }
   ],
   "source": [
    "history = model.fit(partial_x_train,\n",
    "                    partial_y_train,\n",
    "                    epochs=20,\n",
    "                    batch_size=512,\n",
    "                    validation_data=(x_val, y_val))"
   ]
  },
  {
   "cell_type": "code",
   "execution_count": 21,
   "metadata": {},
   "outputs": [],
   "source": [
    "\n",
    "import matplotlib.pyplot as plt"
   ]
  },
  {
   "cell_type": "code",
   "execution_count": 22,
   "metadata": {},
   "outputs": [
    {
     "data": {
      "image/png": "[encoded data removed]",
      "text/plain": [
       "<Figure size 432x288 with 1 Axes>"
      ]
     },
     "metadata": {
      "needs_background": "light"
     },
     "output_type": "display_data"
    }
   ],
   "source": [
    "loss = history.history['loss']\n",
    "val_loss = history.history['val_loss']\n",
    "\n",
    "epochs = range(1, len(loss) + 1)\n",
    "\n",
    "plt.plot(epochs, loss, 'bo', label='Training loss')\n",
    "plt.plot(epochs, val_loss, 'b', label='Validation loss')\n",
    "plt.title('Training and validation loss')\n",
    "plt.xlabel('Epochs')\n",
    "plt.ylabel('Loss')\n",
    "plt.legend()\n",
    "\n",
    "plt.show()"
   ]
  },
  {
   "cell_type": "code",
   "execution_count": 23,
   "metadata": {},
   "outputs": [
    {
     "data": {
      "image/png": "[encoded data removed]",
      "text/plain": [
       "<Figure size 432x288 with 1 Axes>"
      ]
     },
     "metadata": {
      "needs_background": "light"
     },
     "output_type": "display_data"
    }
   ],
   "source": [
    "\n",
    "plt.clf()   # 그래프를 초기화합니다\n",
    "\n",
    "acc = history.history['acc']\n",
    "val_acc = history.history['val_acc']\n",
    "\n",
    "plt.plot(epochs, acc, 'bo', label='Training acc')\n",
    "plt.plot(epochs, val_acc, 'b', label='Validation acc')\n",
    "plt.title('Training and validation accuracy')\n",
    "plt.xlabel('Epochs')\n",
    "plt.ylabel('Accuracy')\n",
    "plt.legend()\n",
    "\n",
    "plt.show()"
   ]
  },
  {
   "cell_type": "code",
   "execution_count": 24,
   "metadata": {},
   "outputs": [
    {
     "name": "stdout",
     "output_type": "stream",
     "text": [
      "Train on 7982 samples, validate on 1000 samples\n",
      "Epoch 1/9\n",
      "7982/7982 [==============================] - 1s 158us/step - loss: 2.5798 - acc: 0.4862 - val_loss: 1.7500 - val_acc: 0.6250\n",
      "Epoch 2/9\n",
      "7982/7982 [==============================] - 1s 130us/step - loss: 1.4471 - acc: 0.6927 - val_loss: 1.3326 - val_acc: 0.7010\n",
      "Epoch 3/9\n",
      "7982/7982 [==============================] - 1s 130us/step - loss: 1.0859 - acc: 0.7661 - val_loss: 1.1731 - val_acc: 0.7290\n",
      "Epoch 4/9\n",
      "7982/7982 [==============================] - 1s 117us/step - loss: 0.8562 - acc: 0.8191 - val_loss: 1.0488 - val_acc: 0.7660\n",
      "Epoch 5/9\n",
      "7982/7982 [==============================] - 1s 121us/step - loss: 0.6860 - acc: 0.8572 - val_loss: 1.0039 - val_acc: 0.7780\n",
      "Epoch 6/9\n",
      "7982/7982 [==============================] - 1s 126us/step - loss: 0.5471 - acc: 0.8856 - val_loss: 0.9431 - val_acc: 0.8020\n",
      "Epoch 7/9\n",
      "7982/7982 [==============================] - 1s 117us/step - loss: 0.4399 - acc: 0.9080 - val_loss: 0.9472 - val_acc: 0.7950\n",
      "Epoch 8/9\n",
      "7982/7982 [==============================] - 1s 125us/step - loss: 0.3566 - acc: 0.9240 - val_loss: 0.9432 - val_acc: 0.8000\n",
      "Epoch 9/9\n",
      "7982/7982 [==============================] - 1s 121us/step - loss: 0.2939 - acc: 0.9355 - val_loss: 0.9367 - val_acc: 0.8010\n",
      "2246/2246 [==============================] - 0s 142us/step\n"
     ]
    }
   ],
   "source": [
    "model = models.Sequential()\n",
    "model.add(layers.Dense(64, activation='relu', input_shape=(10000,)))\n",
    "model.add(layers.Dense(64, activation='relu'))\n",
    "model.add(layers.Dense(46, activation='softmax'))\n",
    "\n",
    "model.compile(optimizer='rmsprop',\n",
    "              loss='categorical_crossentropy',\n",
    "              metrics=['accuracy'])\n",
    "model.fit(partial_x_train,\n",
    "          partial_y_train,\n",
    "          epochs=9,\n",
    "          batch_size=512,\n",
    "          validation_data=(x_val, y_val))\n",
    "results = model.evaluate(x_test, one_hot_test_labels)"
   ]
  },
  {
   "cell_type": "code",
   "execution_count": 25,
   "metadata": {},
   "outputs": [
    {
     "data": {
      "text/plain": [
       "[0.9947222884170519, 0.7867319679430098]"
      ]
     },
     "execution_count": 25,
     "metadata": {},
     "output_type": "execute_result"
    }
   ],
   "source": [
    "results"
   ]
  },
  {
   "cell_type": "code",
   "execution_count": 26,
   "metadata": {},
   "outputs": [
    {
     "data": {
      "text/plain": [
       "0.1714158504007124"
      ]
     },
     "execution_count": 26,
     "metadata": {},
     "output_type": "execute_result"
    }
   ],
   "source": [
    "import copy\n",
    "\n",
    "test_labels_copy = copy.copy(test_labels)\n",
    "np.random.shuffle(test_labels_copy)\n",
    "float(np.sum(np.array(test_labels) == np.array(test_labels_copy))) / len(test_labels)"
   ]
  },
  {
   "cell_type": "code",
   "execution_count": 27,
   "metadata": {},
   "outputs": [],
   "source": [
    "predictions = model.predict(x_test)"
   ]
  },
  {
   "cell_type": "code",
   "execution_count": 28,
   "metadata": {},
   "outputs": [
    {
     "data": {
      "text/plain": [
       "(46,)"
      ]
     },
     "execution_count": 28,
     "metadata": {},
     "output_type": "execute_result"
    }
   ],
   "source": [
    "predictions[0].shape"
   ]
  },
  {
   "cell_type": "code",
   "execution_count": 29,
   "metadata": {},
   "outputs": [
    {
     "data": {
      "text/plain": [
       "1.0000001"
      ]
     },
     "execution_count": 29,
     "metadata": {},
     "output_type": "execute_result"
    }
   ],
   "source": [
    "np.sum(predictions[0])"
   ]
  },
  {
   "cell_type": "code",
   "execution_count": 30,
   "metadata": {},
   "outputs": [
    {
     "data": {
      "text/plain": [
       "3"
      ]
     },
     "execution_count": 30,
     "metadata": {},
     "output_type": "execute_result"
    }
   ],
   "source": [
    "np.argmax(predictions[0])"
   ]
  },
  {
   "cell_type": "code",
   "execution_count": 31,
   "metadata": {},
   "outputs": [],
   "source": [
    "y_train = np.array(train_labels)\n",
    "y_test = np.array(test_labels)"
   ]
  },
  {
   "cell_type": "code",
   "execution_count": 32,
   "metadata": {},
   "outputs": [],
   "source": [
    "model.compile(optimizer='rmsprop', loss='sparse_categorical_crossentropy', metrics=['acc'])"
   ]
  },
  {
   "cell_type": "code",
   "execution_count": 33,
   "metadata": {},
   "outputs": [
    {
     "name": "stdout",
     "output_type": "stream",
     "text": [
      "Train on 7982 samples, validate on 1000 samples\n",
      "Epoch 1/20\n",
      "7982/7982 [==============================] - 2s 239us/step - loss: 2.8568 - acc: 0.2274 - val_loss: 2.3163 - val_acc: 0.2920\n",
      "Epoch 2/20\n",
      "7982/7982 [==============================] - 2s 193us/step - loss: 1.9288 - acc: 0.3884 - val_loss: 1.6814 - val_acc: 0.6550\n",
      "Epoch 3/20\n",
      "7982/7982 [==============================] - 2s 193us/step - loss: 1.4245 - acc: 0.6964 - val_loss: 1.4974 - val_acc: 0.6710\n",
      "Epoch 4/20\n",
      "7982/7982 [==============================] - 2s 192us/step - loss: 1.2541 - acc: 0.7201 - val_loss: 1.4555 - val_acc: 0.6850\n",
      "Epoch 5/20\n",
      "7982/7982 [==============================] - ETA: 0s - loss: 1.1641 - acc: 0.734 - 1s 185us/step - loss: 1.1625 - acc: 0.7344 - val_loss: 1.4381 - val_acc: 0.6850\n",
      "Epoch 6/20\n",
      "7982/7982 [==============================] - 1s 186us/step - loss: 1.0925 - acc: 0.7403 - val_loss: 1.4476 - val_acc: 0.6840\n",
      "Epoch 7/20\n",
      "7982/7982 [==============================] - 1s 184us/step - loss: 1.0381 - acc: 0.7438 - val_loss: 1.4613 - val_acc: 0.6810\n",
      "Epoch 8/20\n",
      "7982/7982 [==============================] - 1s 181us/step - loss: 0.9916 - acc: 0.7422 - val_loss: 1.5233 - val_acc: 0.6690\n",
      "Epoch 9/20\n",
      "7982/7982 [==============================] - 2s 192us/step - loss: 0.9532 - acc: 0.7439 - val_loss: 1.5427 - val_acc: 0.6710\n",
      "Epoch 10/20\n",
      "7982/7982 [==============================] - 1s 183us/step - loss: 0.9162 - acc: 0.7432 - val_loss: 1.5397 - val_acc: 0.6700\n",
      "Epoch 11/20\n",
      "7982/7982 [==============================] - 2s 188us/step - loss: 0.8826 - acc: 0.7443 - val_loss: 1.5772 - val_acc: 0.6650\n",
      "Epoch 12/20\n",
      "7982/7982 [==============================] - 1s 183us/step - loss: 0.8540 - acc: 0.7512 - val_loss: 1.5867 - val_acc: 0.6730\n",
      "Epoch 13/20\n",
      "7982/7982 [==============================] - 1s 188us/step - loss: 0.8279 - acc: 0.7601 - val_loss: 1.6072 - val_acc: 0.6770\n",
      "Epoch 14/20\n",
      "7982/7982 [==============================] - 1s 184us/step - loss: 0.8019 - acc: 0.7648 - val_loss: 1.6687 - val_acc: 0.6750\n",
      "Epoch 15/20\n",
      "7982/7982 [==============================] - 2s 199us/step - loss: 0.7791 - acc: 0.7712 - val_loss: 1.6652 - val_acc: 0.6810\n",
      "Epoch 16/20\n",
      "7982/7982 [==============================] - 1s 186us/step - loss: 0.7602 - acc: 0.7745 - val_loss: 1.7978 - val_acc: 0.6730\n",
      "Epoch 17/20\n",
      "7982/7982 [==============================] - 2s 196us/step - loss: 0.7409 - acc: 0.7824 - val_loss: 1.7662 - val_acc: 0.6910\n",
      "Epoch 18/20\n",
      "7982/7982 [==============================] - ETA: 0s - loss: 0.7276 - acc: 0.791 - 2s 189us/step - loss: 0.7250 - acc: 0.7922 - val_loss: 1.8238 - val_acc: 0.6820\n",
      "Epoch 19/20\n",
      "7982/7982 [==============================] - 1s 184us/step - loss: 0.7095 - acc: 0.7985 - val_loss: 1.8533 - val_acc: 0.6900\n",
      "Epoch 20/20\n",
      "7982/7982 [==============================] - 1s 185us/step - loss: 0.6976 - acc: 0.8023 - val_loss: 1.8455 - val_acc: 0.6830\n"
     ]
    },
    {
     "data": {
      "text/plain": [
       "<keras.callbacks.History at 0x11e97c3aa90>"
      ]
     },
     "execution_count": 33,
     "metadata": {},
     "output_type": "execute_result"
    }
   ],
   "source": [
    "model = models.Sequential()\n",
    "model.add(layers.Dense(64, activation='relu', input_shape=(10000,)))\n",
    "model.add(layers.Dense(4, activation='relu'))\n",
    "model.add(layers.Dense(46, activation='softmax'))\n",
    "\n",
    "model.compile(optimizer='rmsprop',\n",
    "              loss='categorical_crossentropy',\n",
    "              metrics=['accuracy'])\n",
    "model.fit(partial_x_train,\n",
    "          partial_y_train,\n",
    "          epochs=20,\n",
    "          batch_size=128,\n",
    "          validation_data=(x_val, y_val))"
   ]
  },
  {
   "cell_type": "code",
   "execution_count": null,
   "metadata": {},
   "outputs": [],
   "source": [
    "#1.\n",
    "#이 데이터셋은 총 46개의 주제중에 하나를 가지는 짤막한 뉴스 데이터의 집합이다.\n",
    "#(3.4_practice)에서와 같이 데이터는 딕셔너리와 그에 해당하는 인덱스로 구성되어 있다.\n",
    "#2.\n",
    "#이 모델은 (3.4_practice)와 비슷하게, 딕셔너리의 각각의 원소에 46차원의 벡터를\n",
    "#대응시키고, 각각의 원소(단어)에 대해 46개의 토픽에 대한 가중치를 설정한다.\n",
    "#이 가중치는 train_set을 통해 학습하며, 가중치를 통해, test_set이 입력되었을 때,\n",
    "#입력값에 대한 결과값을 토픽에 대한 인덱스로 출력한다.\n",
    "#3.\n",
    "#(3.4_practice)와 비슷하게 가공 되었는데, 가장 많이 사용된 10000개의 단어로\n",
    "#딕셔너리를 만들고 각각의 뉴스를 단어단위로 쪼개서 딕셔너리에 대응되는 인덱스로\n",
    "#바꿔줬다.\n",
    "#4.\n",
    "#입력층에서는 한 뉴스를 딕셔너리에 맞춰 인덱스화하여 사용된 단어를 세어서\n",
    "#10000차원의 벡터로 만들어서 입력해주고, 출력층에서는 입력값으로 들어온 뉴스가\n",
    "#어떤 토픽에 해당하는지에 대한 예상이 나온다."
   ]
  }
 ],
 "metadata": {
  "kernelspec": {
   "display_name": "Python 3",
   "language": "python",
   "name": "python3"
  },
  "language_info": {
   "codemirror_mode": {
    "name": "ipython",
    "version": 3
   },
   "file_extension": ".py",
   "mimetype": "text/x-python",
   "name": "python",
   "nbconvert_exporter": "python",
   "pygments_lexer": "ipython3",
   "version": "3.6.8"
  }
 },
 "nbformat": 4,
 "nbformat_minor": 2
}
